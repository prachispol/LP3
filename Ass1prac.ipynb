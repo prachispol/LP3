{
 "cells": [
  {
   "cell_type": "code",
   "execution_count": 40,
   "id": "3edc9df9",
   "metadata": {},
   "outputs": [],
   "source": [
    "import pandas as pd"
   ]
  },
  {
   "cell_type": "code",
   "execution_count": 41,
   "id": "56845991",
   "metadata": {},
   "outputs": [],
   "source": [
    "import numpy as np\n",
    "importimport pandas as pd matplotlib.pyplot as plt\n",
    "import seaborn as sns\n"
   ]
  },
  {
   "cell_type": "code",
   "execution_count": 42,
   "id": "8376de1a",
   "metadata": {},
   "outputs": [],
   "source": [
    "df=pd.read_csv(\"Uber.csv\")"
   ]
  },
  {
   "cell_type": "code",
   "execution_count": 43,
   "id": "fa5d7628",
   "metadata": {},
   "outputs": [
    {
     "data": {
      "text/html": [
       "<div>\n",
       "<style scoped>\n",
       "    .dataframe tbody tr th:only-of-type {\n",
       "        vertical-align: middle;\n",
       "    }\n",
       "\n",
       "    .dataframe tbody tr th {\n",
       "        vertical-align: top;\n",
       "    }\n",
       "\n",
       "    .dataframe thead th {\n",
       "        text-align: right;\n",
       "    }\n",
       "</style>\n",
       "<table border=\"1\" class=\"dataframe\">\n",
       "  <thead>\n",
       "    <tr style=\"text-align: right;\">\n",
       "      <th></th>\n",
       "      <th>Unnamed: 0</th>\n",
       "      <th>key</th>\n",
       "      <th>fare_amount</th>\n",
       "      <th>pickup_datetime</th>\n",
       "      <th>pickup_longitude</th>\n",
       "      <th>pickup_latitude</th>\n",
       "      <th>dropoff_longitude</th>\n",
       "      <th>dropoff_latitude</th>\n",
       "      <th>passenger_count</th>\n",
       "    </tr>\n",
       "  </thead>\n",
       "  <tbody>\n",
       "    <tr>\n",
       "      <th>0</th>\n",
       "      <td>24238194</td>\n",
       "      <td>2015-05-07 19:52:06.0000003</td>\n",
       "      <td>7.5</td>\n",
       "      <td>2015-05-07 19:52:06 UTC</td>\n",
       "      <td>-73.999817</td>\n",
       "      <td>40.738354</td>\n",
       "      <td>-73.999512</td>\n",
       "      <td>40.723217</td>\n",
       "      <td>1</td>\n",
       "    </tr>\n",
       "    <tr>\n",
       "      <th>1</th>\n",
       "      <td>27835199</td>\n",
       "      <td>2009-07-17 20:04:56.0000002</td>\n",
       "      <td>7.7</td>\n",
       "      <td>2009-07-17 20:04:56 UTC</td>\n",
       "      <td>-73.994355</td>\n",
       "      <td>40.728225</td>\n",
       "      <td>-73.994710</td>\n",
       "      <td>40.750325</td>\n",
       "      <td>1</td>\n",
       "    </tr>\n",
       "    <tr>\n",
       "      <th>2</th>\n",
       "      <td>44984355</td>\n",
       "      <td>2009-08-24 21:45:00.00000061</td>\n",
       "      <td>12.9</td>\n",
       "      <td>2009-08-24 21:45:00 UTC</td>\n",
       "      <td>-74.005043</td>\n",
       "      <td>40.740770</td>\n",
       "      <td>-73.962565</td>\n",
       "      <td>40.772647</td>\n",
       "      <td>1</td>\n",
       "    </tr>\n",
       "    <tr>\n",
       "      <th>3</th>\n",
       "      <td>25894730</td>\n",
       "      <td>2009-06-26 08:22:21.0000001</td>\n",
       "      <td>5.3</td>\n",
       "      <td>2009-06-26 08:22:21 UTC</td>\n",
       "      <td>-73.976124</td>\n",
       "      <td>40.790844</td>\n",
       "      <td>-73.965316</td>\n",
       "      <td>40.803349</td>\n",
       "      <td>3</td>\n",
       "    </tr>\n",
       "    <tr>\n",
       "      <th>4</th>\n",
       "      <td>17610152</td>\n",
       "      <td>2014-08-28 17:47:00.000000188</td>\n",
       "      <td>16.0</td>\n",
       "      <td>2014-08-28 17:47:00 UTC</td>\n",
       "      <td>-73.925023</td>\n",
       "      <td>40.744085</td>\n",
       "      <td>-73.973082</td>\n",
       "      <td>40.761247</td>\n",
       "      <td>5</td>\n",
       "    </tr>\n",
       "  </tbody>\n",
       "</table>\n",
       "</div>"
      ],
      "text/plain": [
       "   Unnamed: 0                            key  fare_amount  \\\n",
       "0    24238194    2015-05-07 19:52:06.0000003          7.5   \n",
       "1    27835199    2009-07-17 20:04:56.0000002          7.7   \n",
       "2    44984355   2009-08-24 21:45:00.00000061         12.9   \n",
       "3    25894730    2009-06-26 08:22:21.0000001          5.3   \n",
       "4    17610152  2014-08-28 17:47:00.000000188         16.0   \n",
       "\n",
       "           pickup_datetime  pickup_longitude  pickup_latitude  \\\n",
       "0  2015-05-07 19:52:06 UTC        -73.999817        40.738354   \n",
       "1  2009-07-17 20:04:56 UTC        -73.994355        40.728225   \n",
       "2  2009-08-24 21:45:00 UTC        -74.005043        40.740770   \n",
       "3  2009-06-26 08:22:21 UTC        -73.976124        40.790844   \n",
       "4  2014-08-28 17:47:00 UTC        -73.925023        40.744085   \n",
       "\n",
       "   dropoff_longitude  dropoff_latitude  passenger_count  \n",
       "0         -73.999512         40.723217                1  \n",
       "1         -73.994710         40.750325                1  \n",
       "2         -73.962565         40.772647                1  \n",
       "3         -73.965316         40.803349                3  \n",
       "4         -73.973082         40.761247                5  "
      ]
     },
     "execution_count": 43,
     "metadata": {},
     "output_type": "execute_result"
    }
   ],
   "source": [
    "df.head()"
   ]
  },
  {
   "cell_type": "code",
   "execution_count": 44,
   "id": "2d4cbd62",
   "metadata": {},
   "outputs": [
    {
     "data": {
      "text/html": [
       "<div>\n",
       "<style scoped>\n",
       "    .dataframe tbody tr th:only-of-type {\n",
       "        vertical-align: middle;\n",
       "    }\n",
       "\n",
       "    .dataframe tbody tr th {\n",
       "        vertical-align: top;\n",
       "    }\n",
       "\n",
       "    .dataframe thead th {\n",
       "        text-align: right;\n",
       "    }\n",
       "</style>\n",
       "<table border=\"1\" class=\"dataframe\">\n",
       "  <thead>\n",
       "    <tr style=\"text-align: right;\">\n",
       "      <th></th>\n",
       "      <th>Unnamed: 0</th>\n",
       "      <th>key</th>\n",
       "      <th>fare_amount</th>\n",
       "      <th>pickup_datetime</th>\n",
       "      <th>pickup_longitude</th>\n",
       "      <th>pickup_latitude</th>\n",
       "      <th>dropoff_longitude</th>\n",
       "      <th>dropoff_latitude</th>\n",
       "      <th>passenger_count</th>\n",
       "    </tr>\n",
       "  </thead>\n",
       "  <tbody>\n",
       "    <tr>\n",
       "      <th>199995</th>\n",
       "      <td>42598914</td>\n",
       "      <td>2012-10-28 10:49:00.00000053</td>\n",
       "      <td>3.0</td>\n",
       "      <td>2012-10-28 10:49:00 UTC</td>\n",
       "      <td>-73.987042</td>\n",
       "      <td>40.739367</td>\n",
       "      <td>-73.986525</td>\n",
       "      <td>40.740297</td>\n",
       "      <td>1</td>\n",
       "    </tr>\n",
       "    <tr>\n",
       "      <th>199996</th>\n",
       "      <td>16382965</td>\n",
       "      <td>2014-03-14 01:09:00.0000008</td>\n",
       "      <td>7.5</td>\n",
       "      <td>2014-03-14 01:09:00 UTC</td>\n",
       "      <td>-73.984722</td>\n",
       "      <td>40.736837</td>\n",
       "      <td>-74.006672</td>\n",
       "      <td>40.739620</td>\n",
       "      <td>1</td>\n",
       "    </tr>\n",
       "    <tr>\n",
       "      <th>199997</th>\n",
       "      <td>27804658</td>\n",
       "      <td>2009-06-29 00:42:00.00000078</td>\n",
       "      <td>30.9</td>\n",
       "      <td>2009-06-29 00:42:00 UTC</td>\n",
       "      <td>-73.986017</td>\n",
       "      <td>40.756487</td>\n",
       "      <td>-73.858957</td>\n",
       "      <td>40.692588</td>\n",
       "      <td>2</td>\n",
       "    </tr>\n",
       "    <tr>\n",
       "      <th>199998</th>\n",
       "      <td>20259894</td>\n",
       "      <td>2015-05-20 14:56:25.0000004</td>\n",
       "      <td>14.5</td>\n",
       "      <td>2015-05-20 14:56:25 UTC</td>\n",
       "      <td>-73.997124</td>\n",
       "      <td>40.725452</td>\n",
       "      <td>-73.983215</td>\n",
       "      <td>40.695415</td>\n",
       "      <td>1</td>\n",
       "    </tr>\n",
       "    <tr>\n",
       "      <th>199999</th>\n",
       "      <td>11951496</td>\n",
       "      <td>2010-05-15 04:08:00.00000076</td>\n",
       "      <td>14.1</td>\n",
       "      <td>2010-05-15 04:08:00 UTC</td>\n",
       "      <td>-73.984395</td>\n",
       "      <td>40.720077</td>\n",
       "      <td>-73.985508</td>\n",
       "      <td>40.768793</td>\n",
       "      <td>1</td>\n",
       "    </tr>\n",
       "  </tbody>\n",
       "</table>\n",
       "</div>"
      ],
      "text/plain": [
       "        Unnamed: 0                           key  fare_amount  \\\n",
       "199995    42598914  2012-10-28 10:49:00.00000053          3.0   \n",
       "199996    16382965   2014-03-14 01:09:00.0000008          7.5   \n",
       "199997    27804658  2009-06-29 00:42:00.00000078         30.9   \n",
       "199998    20259894   2015-05-20 14:56:25.0000004         14.5   \n",
       "199999    11951496  2010-05-15 04:08:00.00000076         14.1   \n",
       "\n",
       "                pickup_datetime  pickup_longitude  pickup_latitude  \\\n",
       "199995  2012-10-28 10:49:00 UTC        -73.987042        40.739367   \n",
       "199996  2014-03-14 01:09:00 UTC        -73.984722        40.736837   \n",
       "199997  2009-06-29 00:42:00 UTC        -73.986017        40.756487   \n",
       "199998  2015-05-20 14:56:25 UTC        -73.997124        40.725452   \n",
       "199999  2010-05-15 04:08:00 UTC        -73.984395        40.720077   \n",
       "\n",
       "        dropoff_longitude  dropoff_latitude  passenger_count  \n",
       "199995         -73.986525         40.740297                1  \n",
       "199996         -74.006672         40.739620                1  \n",
       "199997         -73.858957         40.692588                2  \n",
       "199998         -73.983215         40.695415                1  \n",
       "199999         -73.985508         40.768793                1  "
      ]
     },
     "execution_count": 44,
     "metadata": {},
     "output_type": "execute_result"
    }
   ],
   "source": [
    "df.tail()"
   ]
  },
  {
   "cell_type": "code",
   "execution_count": 45,
   "id": "b2622af1",
   "metadata": {},
   "outputs": [
    {
     "data": {
      "text/html": [
       "<div>\n",
       "<style scoped>\n",
       "    .dataframe tbody tr th:only-of-type {\n",
       "        vertical-align: middle;\n",
       "    }\n",
       "\n",
       "    .dataframe tbody tr th {\n",
       "        vertical-align: top;\n",
       "    }\n",
       "\n",
       "    .dataframe thead th {\n",
       "        text-align: right;\n",
       "    }\n",
       "</style>\n",
       "<table border=\"1\" class=\"dataframe\">\n",
       "  <thead>\n",
       "    <tr style=\"text-align: right;\">\n",
       "      <th></th>\n",
       "      <th>Unnamed: 0</th>\n",
       "      <th>fare_amount</th>\n",
       "      <th>pickup_longitude</th>\n",
       "      <th>pickup_latitude</th>\n",
       "      <th>dropoff_longitude</th>\n",
       "      <th>dropoff_latitude</th>\n",
       "      <th>passenger_count</th>\n",
       "    </tr>\n",
       "  </thead>\n",
       "  <tbody>\n",
       "    <tr>\n",
       "      <th>count</th>\n",
       "      <td>2.000000e+05</td>\n",
       "      <td>200000.000000</td>\n",
       "      <td>200000.000000</td>\n",
       "      <td>200000.000000</td>\n",
       "      <td>199999.000000</td>\n",
       "      <td>199999.000000</td>\n",
       "      <td>200000.000000</td>\n",
       "    </tr>\n",
       "    <tr>\n",
       "      <th>mean</th>\n",
       "      <td>2.771250e+07</td>\n",
       "      <td>11.359955</td>\n",
       "      <td>-72.527638</td>\n",
       "      <td>39.935885</td>\n",
       "      <td>-72.525292</td>\n",
       "      <td>39.923890</td>\n",
       "      <td>1.684535</td>\n",
       "    </tr>\n",
       "    <tr>\n",
       "      <th>std</th>\n",
       "      <td>1.601382e+07</td>\n",
       "      <td>9.901776</td>\n",
       "      <td>11.437787</td>\n",
       "      <td>7.720539</td>\n",
       "      <td>13.117408</td>\n",
       "      <td>6.794829</td>\n",
       "      <td>1.385997</td>\n",
       "    </tr>\n",
       "    <tr>\n",
       "      <th>min</th>\n",
       "      <td>1.000000e+00</td>\n",
       "      <td>-52.000000</td>\n",
       "      <td>-1340.648410</td>\n",
       "      <td>-74.015515</td>\n",
       "      <td>-3356.666300</td>\n",
       "      <td>-881.985513</td>\n",
       "      <td>0.000000</td>\n",
       "    </tr>\n",
       "    <tr>\n",
       "      <th>25%</th>\n",
       "      <td>1.382535e+07</td>\n",
       "      <td>6.000000</td>\n",
       "      <td>-73.992065</td>\n",
       "      <td>40.734796</td>\n",
       "      <td>-73.991407</td>\n",
       "      <td>40.733823</td>\n",
       "      <td>1.000000</td>\n",
       "    </tr>\n",
       "    <tr>\n",
       "      <th>50%</th>\n",
       "      <td>2.774550e+07</td>\n",
       "      <td>8.500000</td>\n",
       "      <td>-73.981823</td>\n",
       "      <td>40.752592</td>\n",
       "      <td>-73.980093</td>\n",
       "      <td>40.753042</td>\n",
       "      <td>1.000000</td>\n",
       "    </tr>\n",
       "    <tr>\n",
       "      <th>75%</th>\n",
       "      <td>4.155530e+07</td>\n",
       "      <td>12.500000</td>\n",
       "      <td>-73.967154</td>\n",
       "      <td>40.767158</td>\n",
       "      <td>-73.963658</td>\n",
       "      <td>40.768001</td>\n",
       "      <td>2.000000</td>\n",
       "    </tr>\n",
       "    <tr>\n",
       "      <th>max</th>\n",
       "      <td>5.542357e+07</td>\n",
       "      <td>499.000000</td>\n",
       "      <td>57.418457</td>\n",
       "      <td>1644.421482</td>\n",
       "      <td>1153.572603</td>\n",
       "      <td>872.697628</td>\n",
       "      <td>208.000000</td>\n",
       "    </tr>\n",
       "  </tbody>\n",
       "</table>\n",
       "</div>"
      ],
      "text/plain": [
       "         Unnamed: 0    fare_amount  pickup_longitude  pickup_latitude  \\\n",
       "count  2.000000e+05  200000.000000     200000.000000    200000.000000   \n",
       "mean   2.771250e+07      11.359955        -72.527638        39.935885   \n",
       "std    1.601382e+07       9.901776         11.437787         7.720539   \n",
       "min    1.000000e+00     -52.000000      -1340.648410       -74.015515   \n",
       "25%    1.382535e+07       6.000000        -73.992065        40.734796   \n",
       "50%    2.774550e+07       8.500000        -73.981823        40.752592   \n",
       "75%    4.155530e+07      12.500000        -73.967154        40.767158   \n",
       "max    5.542357e+07     499.000000         57.418457      1644.421482   \n",
       "\n",
       "       dropoff_longitude  dropoff_latitude  passenger_count  \n",
       "count      199999.000000     199999.000000    200000.000000  \n",
       "mean          -72.525292         39.923890         1.684535  \n",
       "std            13.117408          6.794829         1.385997  \n",
       "min         -3356.666300       -881.985513         0.000000  \n",
       "25%           -73.991407         40.733823         1.000000  \n",
       "50%           -73.980093         40.753042         1.000000  \n",
       "75%           -73.963658         40.768001         2.000000  \n",
       "max          1153.572603        872.697628       208.000000  "
      ]
     },
     "execution_count": 45,
     "metadata": {},
     "output_type": "execute_result"
    }
   ],
   "source": [
    "df.describe()"
   ]
  },
  {
   "cell_type": "code",
   "execution_count": 46,
   "id": "eef69520",
   "metadata": {},
   "outputs": [
    {
     "data": {
      "text/plain": [
       "Unnamed: 0             int64\n",
       "key                   object\n",
       "fare_amount          float64\n",
       "pickup_datetime       object\n",
       "pickup_longitude     float64\n",
       "pickup_latitude      float64\n",
       "dropoff_longitude    float64\n",
       "dropoff_latitude     float64\n",
       "passenger_count        int64\n",
       "dtype: object"
      ]
     },
     "execution_count": 46,
     "metadata": {},
     "output_type": "execute_result"
    }
   ],
   "source": [
    "df.dtypes"
   ]
  },
  {
   "cell_type": "code",
   "execution_count": 47,
   "id": "cdc4957d",
   "metadata": {},
   "outputs": [
    {
     "name": "stdout",
     "output_type": "stream",
     "text": [
      "<class 'pandas.core.frame.DataFrame'>\n",
      "RangeIndex: 200000 entries, 0 to 199999\n",
      "Data columns (total 9 columns):\n",
      " #   Column             Non-Null Count   Dtype  \n",
      "---  ------             --------------   -----  \n",
      " 0   Unnamed: 0         200000 non-null  int64  \n",
      " 1   key                200000 non-null  object \n",
      " 2   fare_amount        200000 non-null  float64\n",
      " 3   pickup_datetime    200000 non-null  object \n",
      " 4   pickup_longitude   200000 non-null  float64\n",
      " 5   pickup_latitude    200000 non-null  float64\n",
      " 6   dropoff_longitude  199999 non-null  float64\n",
      " 7   dropoff_latitude   199999 non-null  float64\n",
      " 8   passenger_count    200000 non-null  int64  \n",
      "dtypes: float64(5), int64(2), object(2)\n",
      "memory usage: 13.7+ MB\n"
     ]
    }
   ],
   "source": [
    "df.info()"
   ]
  },
  {
   "cell_type": "code",
   "execution_count": 48,
   "id": "4f4a66e0",
   "metadata": {},
   "outputs": [],
   "source": [
    "df['pickup_datetime']=pd.to_datetime(df['pickup_datetime'])"
   ]
  },
  {
   "cell_type": "code",
   "execution_count": 49,
   "id": "8f637873",
   "metadata": {},
   "outputs": [
    {
     "name": "stdout",
     "output_type": "stream",
     "text": [
      "<class 'pandas.core.frame.DataFrame'>\n",
      "RangeIndex: 200000 entries, 0 to 199999\n",
      "Data columns (total 9 columns):\n",
      " #   Column             Non-Null Count   Dtype              \n",
      "---  ------             --------------   -----              \n",
      " 0   Unnamed: 0         200000 non-null  int64              \n",
      " 1   key                200000 non-null  object             \n",
      " 2   fare_amount        200000 non-null  float64            \n",
      " 3   pickup_datetime    200000 non-null  datetime64[ns, UTC]\n",
      " 4   pickup_longitude   200000 non-null  float64            \n",
      " 5   pickup_latitude    200000 non-null  float64            \n",
      " 6   dropoff_longitude  199999 non-null  float64            \n",
      " 7   dropoff_latitude   199999 non-null  float64            \n",
      " 8   passenger_count    200000 non-null  int64              \n",
      "dtypes: datetime64[ns, UTC](1), float64(5), int64(2), object(1)\n",
      "memory usage: 13.7+ MB\n"
     ]
    }
   ],
   "source": [
    "df.info()"
   ]
  },
  {
   "cell_type": "code",
   "execution_count": 50,
   "id": "4956ea3a",
   "metadata": {},
   "outputs": [
    {
     "data": {
      "text/plain": [
       "Unnamed: 0           0\n",
       "key                  0\n",
       "fare_amount          0\n",
       "pickup_datetime      0\n",
       "pickup_longitude     0\n",
       "pickup_latitude      0\n",
       "dropoff_longitude    1\n",
       "dropoff_latitude     1\n",
       "passenger_count      0\n",
       "dtype: int64"
      ]
     },
     "execution_count": 50,
     "metadata": {},
     "output_type": "execute_result"
    }
   ],
   "source": [
    "df.isnull().sum()"
   ]
  },
  {
   "cell_type": "code",
   "execution_count": 51,
   "id": "0bbe7b20",
   "metadata": {},
   "outputs": [],
   "source": [
    "df.dropna(inplace=True)"
   ]
  },
  {
   "cell_type": "code",
   "execution_count": 52,
   "id": "4ae06d09",
   "metadata": {},
   "outputs": [
    {
     "data": {
      "text/plain": [
       "Unnamed: 0           0\n",
       "key                  0\n",
       "fare_amount          0\n",
       "pickup_datetime      0\n",
       "pickup_longitude     0\n",
       "pickup_latitude      0\n",
       "dropoff_longitude    0\n",
       "dropoff_latitude     0\n",
       "passenger_count      0\n",
       "dtype: int64"
      ]
     },
     "execution_count": 52,
     "metadata": {},
     "output_type": "execute_result"
    }
   ],
   "source": [
    "df.isnull().sum()"
   ]
  },
  {
   "cell_type": "code",
   "execution_count": 53,
   "id": "8a8ea4d6",
   "metadata": {},
   "outputs": [
    {
     "data": {
      "text/plain": [
       "{'whiskers': [<matplotlib.lines.Line2D at 0x2ef5bdb60a0>,\n",
       "  <matplotlib.lines.Line2D at 0x2ef5bdb6370>],\n",
       " 'caps': [<matplotlib.lines.Line2D at 0x2ef5bdb6670>,\n",
       "  <matplotlib.lines.Line2D at 0x2ef5bdb6940>],\n",
       " 'boxes': [<matplotlib.lines.Line2D at 0x2ef5bda9d90>],\n",
       " 'medians': [<matplotlib.lines.Line2D at 0x2ef5bdb6c10>],\n",
       " 'fliers': [<matplotlib.lines.Line2D at 0x2ef5bdb6ee0>],\n",
       " 'means': []}"
      ]
     },
     "execution_count": 53,
     "metadata": {},
     "output_type": "execute_result"
    },
    {
     "data": {
      "image/png": "[encoded data removed]",
      "text/plain": [
       "<Figure size 640x480 with 1 Axes>"
      ]
     },
     "metadata": {},
     "output_type": "display_data"
    }
   ],
   "source": [
    "plt.boxplot(df['fare_amount'])"
   ]
  },
  {
   "cell_type": "code",
   "execution_count": 54,
   "id": "b837a2e0",
   "metadata": {},
   "outputs": [],
   "source": [
    "q_low=df[\"fare_amount\"].quantile(0.01)\n",
    "q_high=df[\"fare_amount\"].quantile(0.99)\n",
    "\n",
    "df=df[(df[\"fare_amount\"]>q_low)&(df[\"fare_amount\"]<q_high)]\n",
    "\n",
    "#IQR to remove outliers\n",
    "# def remove_outlier(df1 , col):\n",
    "#     Q1 = df1[col].quantile(0.25)\n",
    "#     Q3 = df1[col].quantile(0.75)\n",
    "#     IQR = Q3 - Q1\n",
    "#     lower_whisker = Q1-1.5*IQR\n",
    "#     upper_whisker = Q3+1.5*IQR\n",
    "#     df[col] = np.clip(df1[col] , lower_whisker , upper_whisker)\n",
    "#     return df1\n",
    "\n",
    "# def treat_outliers_all(df1 , col_list):\n",
    "#     for c in col_list:\n",
    "#         df1 = remove_outlier(df , c)\n",
    "#     return df1"
   ]
  },
  {
   "cell_type": "code",
   "execution_count": 55,
   "id": "0d1bbf90",
   "metadata": {},
   "outputs": [
    {
     "data": {
      "text/plain": [
       "{'whiskers': [<matplotlib.lines.Line2D at 0x2ef5bf44520>,\n",
       "  <matplotlib.lines.Line2D at 0x2ef5bf447f0>],\n",
       " 'caps': [<matplotlib.lines.Line2D at 0x2ef5bf44ac0>,\n",
       "  <matplotlib.lines.Line2D at 0x2ef5bf44d90>],\n",
       " 'boxes': [<matplotlib.lines.Line2D at 0x2ef5bf44250>],\n",
       " 'medians': [<matplotlib.lines.Line2D at 0x2ef5bdd00a0>],\n",
       " 'fliers': [<matplotlib.lines.Line2D at 0x2ef5bdd0370>],\n",
       " 'means': []}"
      ]
     },
     "execution_count": 55,
     "metadata": {},
     "output_type": "execute_result"
    },
    {
     "data": {
      "image/png": "[encoded data removed]",
      "text/plain": [
       "<Figure size 640x480 with 1 Axes>"
      ]
     },
     "metadata": {},
     "output_type": "display_data"
    }
   ],
   "source": [
    "plt.boxplot(df[\"fare_amount\"])"
   ]
  },
  {
   "cell_type": "code",
   "execution_count": 93,
   "id": "e3923350",
   "metadata": {},
   "outputs": [
    {
     "data": {
      "text/plain": [
       "<AxesSubplot:>"
      ]
     },
     "execution_count": 93,
     "metadata": {},
     "output_type": "execute_result"
    },
    {
     "data": {
      "image/png": "[encoded data removed]",
      "text/plain": [
       "<Figure size 640x480 with 2 Axes>"
      ]
     },
     "metadata": {},
     "output_type": "display_data"
    }
   ],
   "source": [
    "sns.heatmap(df.corr(),annot=True)"
   ]
  },
  {
   "cell_type": "code",
   "execution_count": 57,
   "id": "cdca4598",
   "metadata": {},
   "outputs": [],
   "source": [
    "from sklearn.linear_model import LinearRegression"
   ]
  },
  {
   "cell_type": "code",
   "execution_count": 58,
   "id": "58c9dccf",
   "metadata": {},
   "outputs": [],
   "source": [
    "from sklearn.model_selection import train_test_split"
   ]
  },
  {
   "cell_type": "code",
   "execution_count": 68,
   "id": "d6411628",
   "metadata": {},
   "outputs": [],
   "source": [
    "\n",
    "x=df.drop('fare_amount',axis=1)\n",
    "y=df['fare_amount']\n",
    "# x.dtypes"
   ]
  },
  {
   "cell_type": "code",
   "execution_count": 69,
   "id": "20b995c1",
   "metadata": {},
   "outputs": [],
   "source": [
    "# x=x.loc(:,x.str.contains('^Unnamed'))\n",
    "\n",
    "x['pickup_datetime'] = pd.to_numeric(x['pickup_datetime'])\n",
    "x = x.loc[:,x.columns.str.contains('^Unnamed')]\n"
   ]
  },
  {
   "cell_type": "code",
   "execution_count": 70,
   "id": "53e2ba0a",
   "metadata": {},
   "outputs": [],
   "source": [
    "x_train,x_test,y_train,y_test=train_test_split(x,y,test_size=0.2,random_state=1)"
   ]
  },
  {
   "cell_type": "code",
   "execution_count": 71,
   "id": "4a5dc476",
   "metadata": {},
   "outputs": [],
   "source": [
    "lr=LinearRegression()\n"
   ]
  },
  {
   "cell_type": "code",
   "execution_count": 72,
   "id": "795a1726",
   "metadata": {},
   "outputs": [
    {
     "data": {
      "text/plain": [
       "LinearRegression()"
      ]
     },
     "execution_count": 72,
     "metadata": {},
     "output_type": "execute_result"
    }
   ],
   "source": [
    "lr.fit(x_train,y_train)"
   ]
  },
  {
   "cell_type": "code",
   "execution_count": 73,
   "id": "17e5113c",
   "metadata": {},
   "outputs": [],
   "source": [
    "y_pred=lr.predict(x_test)"
   ]
  },
  {
   "cell_type": "code",
   "execution_count": 80,
   "id": "021c9dae",
   "metadata": {},
   "outputs": [],
   "source": [
    "from sklearn.metrics import mean_squared_error,r2_score"
   ]
  },
  {
   "cell_type": "code",
   "execution_count": 77,
   "id": "2465f326",
   "metadata": {},
   "outputs": [],
   "source": [
    "RMSE=np.sqrt(mean_squared_error(y_test,y_pred))"
   ]
  },
  {
   "cell_type": "code",
   "execution_count": 78,
   "id": "476da570",
   "metadata": {},
   "outputs": [
    {
     "data": {
      "text/plain": [
       "8.063863046328835"
      ]
     },
     "execution_count": 78,
     "metadata": {},
     "output_type": "execute_result"
    }
   ],
   "source": [
    "RMSE"
   ]
  },
  {
   "cell_type": "code",
   "execution_count": 81,
   "id": "17d95d94",
   "metadata": {},
   "outputs": [
    {
     "data": {
      "text/plain": [
       "-2.6395537326528995e-05"
      ]
     },
     "execution_count": 81,
     "metadata": {},
     "output_type": "execute_result"
    }
   ],
   "source": [
    "R2_score=r2_score(y_test,y_pred)\n",
    "R2_score"
   ]
  },
  {
   "cell_type": "code",
   "execution_count": 85,
   "id": "063f435b",
   "metadata": {},
   "outputs": [],
   "source": [
    "from sklearn.ensemble import RandomForestRegressor"
   ]
  },
  {
   "cell_type": "code",
   "execution_count": 87,
   "id": "56064b7c",
   "metadata": {},
   "outputs": [
    {
     "data": {
      "text/plain": [
       "RandomForestRegressor()"
      ]
     },
     "execution_count": 87,
     "metadata": {},
     "output_type": "execute_result"
    }
   ],
   "source": [
    "rf=RandomForestRegressor()\n",
    "rf.fit(x_train,y_train)\n"
   ]
  },
  {
   "cell_type": "code",
   "execution_count": 88,
   "id": "4cd8bba6",
   "metadata": {},
   "outputs": [],
   "source": [
    "y_pred=rf.predict(x_test)"
   ]
  },
  {
   "cell_type": "code",
   "execution_count": 90,
   "id": "cf5d4f32",
   "metadata": {},
   "outputs": [
    {
     "data": {
      "text/plain": [
       "9.755187275474976"
      ]
     },
     "execution_count": 90,
     "metadata": {},
     "output_type": "execute_result"
    }
   ],
   "source": [
    "RMSE=np.sqrt(mean_squared_error(y_test,y_pred))\n",
    "RMSE\n"
   ]
  },
  {
   "cell_type": "code",
   "execution_count": 91,
   "id": "a7271ece",
   "metadata": {},
   "outputs": [
    {
     "data": {
      "text/plain": [
       "-0.463512375302052"
      ]
     },
     "execution_count": 91,
     "metadata": {},
     "output_type": "execute_result"
    }
   ],
   "source": [
    "R2_score=r2_score(y_test,y_pred)\n",
    "R2_score"
   ]
  },
  {
   "cell_type": "code",
   "execution_count": null,
   "id": "c471e3eb",
   "metadata": {},
   "outputs": [],
   "source": []
  }
 ],
 "metadata": {
  "kernelspec": {
   "display_name": "Python 3 (ipykernel)",
   "language": "python",
   "name": "python3"
  },
  "language_info": {
   "codemirror_mode": {
    "name": "ipython",
    "version": 3
   },
   "file_extension": ".py",
   "mimetype": "text/x-python",
   "name": "python",
   "nbconvert_exporter": "python",
   "pygments_lexer": "ipython3",
   "version": "3.9.13"
  }
 },
 "nbformat": 4,
 "nbformat_minor": 5
}
